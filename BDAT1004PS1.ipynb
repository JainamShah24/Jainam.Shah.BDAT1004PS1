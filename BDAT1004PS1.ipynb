{
 "cells": [
  {
   "cell_type": "markdown",
   "id": "6e496c15",
   "metadata": {},
   "source": [
    "# Data Programming (BDAT1004) - Problem Set 1"
   ]
  },
  {
   "cell_type": "markdown",
   "id": "43b37148",
   "metadata": {},
   "source": [
    "### Question 1"
   ]
  },
  {
   "cell_type": "code",
   "execution_count": 163,
   "id": "03faa9c2",
   "metadata": {},
   "outputs": [
    {
     "name": "stdout",
     "output_type": "stream",
     "text": [
      "<class 'int'>\n",
      "<class 'float'>\n",
      "<class 'bool'>\n",
      "<class 'str'>\n",
      "<class 'int'>\n",
      "<class 'str'>\n",
      "<class 'str'>\n",
      "<class 'float'>\n",
      "<class 'int'>\n",
      "<class 'set'>\n",
      "<class 'bool'>\n",
      "<class 'float'>\n"
     ]
    }
   ],
   "source": [
    "#Findng the Data Types:\n",
    "\n",
    "print(type(5))\n",
    "print(type(5.0))\n",
    "print(type(5 > 1))\n",
    "print(type('5'))\n",
    "print(type(5 * 2))\n",
    "print(type('5' * 2))\n",
    "print(type('5' + '2'))\n",
    "print(type(5 / 2))\n",
    "print(type(5 % 2))\n",
    "print(type({5,2,1}))\n",
    "print(type(5 == 3))\n",
    "print(type(3.14))"
   ]
  },
  {
   "cell_type": "markdown",
   "id": "726234fe",
   "metadata": {},
   "source": [
    "### Question 2"
   ]
  },
  {
   "cell_type": "markdown",
   "id": "e92ec210",
   "metadata": {},
   "source": [
    "1. How many letters are there in 'Supercalifragilisticexpialidocious'?"
   ]
  },
  {
   "cell_type": "code",
   "execution_count": 166,
   "id": "9db6d5f2",
   "metadata": {},
   "outputs": [
    {
     "name": "stdout",
     "output_type": "stream",
     "text": [
      "Total letters in string is: 34\n"
     ]
    }
   ],
   "source": [
    "string = 'Supercalifragilisticexpialidocious'\n",
    "print(\"Total letters in string is:\",len(string))\n"
   ]
  },
  {
   "cell_type": "markdown",
   "id": "3b61d571",
   "metadata": {},
   "source": [
    "2. Does 'Supercalifragilisticexpialidocious' contain 'ice' as a substring?"
   ]
  },
  {
   "cell_type": "code",
   "execution_count": 10,
   "id": "5d3f625d",
   "metadata": {},
   "outputs": [
    {
     "name": "stdout",
     "output_type": "stream",
     "text": [
      "The string contains 'ice'.\n"
     ]
    }
   ],
   "source": [
    "string = 'Supercalifragilisticexpialidocious'\n",
    "if 'ice' in string:\n",
    "    print(\"The string contains 'ice'.\")\n",
    "else:\n",
    "    print(\"The string does not contains 'ice'.\")"
   ]
  },
  {
   "cell_type": "markdown",
   "id": "b04f0b35",
   "metadata": {},
   "source": [
    "3. Which of the following words is the longest: Supercalifragilisticexpialidocious, Honorificabilitudinitatibus, or Bababadalgharaghtakamminarronnkonn?"
   ]
  },
  {
   "cell_type": "code",
   "execution_count": 84,
   "id": "70e0b0d2",
   "metadata": {},
   "outputs": [
    {
     "name": "stdout",
     "output_type": "stream",
     "text": [
      "{'Supercalifragilisticexpialidocious': 34, 'Honorificabilitudinitatibus': 27, 'Bababadalgharaghtakamminarronnkonn': 34}\n",
      "The string with largest length is: Supercalifragilisticexpialidocious\n",
      "The string with largest length is: Bababadalgharaghtakamminarronnkonn\n"
     ]
    }
   ],
   "source": [
    "#Finding the largest string from the list of strings\n",
    "string1 = ['Supercalifragilisticexpialidocious','Honorificabilitudinitatibus','Bababadalgharaghtakamminarronnkonn']\n",
    "dict1 = {}\n",
    "for i in string1:\n",
    "    dict1[i] = len(i)\n",
    "print(dict1)\n",
    "max_len = max(dict1.values())\n",
    "for key in dict1:\n",
    "    if max_len == dict1[key]:\n",
    "        print(\"The string with largest length is:\",key)\n",
    "    else:\n",
    "        continue"
   ]
  },
  {
   "cell_type": "markdown",
   "id": "d85db7df",
   "metadata": {},
   "source": [
    "4. Which composer comes first in the dictionary: 'Berlioz', 'Borodin', 'Brian', 'Bartok', 'Bellini', 'Buxtehude', 'Bernstein'. Which one comes last?\n"
   ]
  },
  {
   "cell_type": "code",
   "execution_count": 97,
   "id": "40c1c505",
   "metadata": {},
   "outputs": [
    {
     "name": "stdout",
     "output_type": "stream",
     "text": [
      "First in the dictionary is:  Bartok\n",
      "First in the dictionary is:  Buxtehude\n"
     ]
    }
   ],
   "source": [
    "#Finding out which word comes first\n",
    "list = ['Berlioz', 'Borodin', 'Brian', 'Bartok', 'Bellini', 'Buxtehude', 'Bernstein']\n",
    "list.sort()\n",
    "print(\"First in the dictionary is: \",list[0])\n",
    "print(\"First in the dictionary is: \",list[-1])"
   ]
  },
  {
   "cell_type": "markdown",
   "id": "389adaa0",
   "metadata": {},
   "source": [
    "### Question 3"
   ]
  },
  {
   "cell_type": "code",
   "execution_count": 35,
   "id": "1061a1b3",
   "metadata": {},
   "outputs": [
    {
     "name": "stdout",
     "output_type": "stream",
     "text": [
      "Enter the value for side A:2\n",
      "Enter the value for side B:2\n",
      "Enter the value for side C:2\n",
      "Area of the Triangle: 1.7320508075688772\n"
     ]
    }
   ],
   "source": [
    "#Area of a Triangle\n",
    "import math\n",
    "def triangleArea(a,b,c):\n",
    "    sides = (a+b+c)/2\n",
    "    formula = (sides*(sides-a)*(sides-b)*(sides-c))\n",
    "    return math.sqrt(formula)\n",
    "side_a = int(input(\"Enter the value for side A:\"))\n",
    "side_b = int(input(\"Enter the value for side B:\"))\n",
    "side_c = int(input(\"Enter the value for side C:\"))\n",
    "print(\"Area of the Triangle:\", triangleArea(side_a,side_b,side_c))"
   ]
  },
  {
   "cell_type": "markdown",
   "id": "43770dc8",
   "metadata": {},
   "source": [
    "### Question 4"
   ]
  },
  {
   "cell_type": "code",
   "execution_count": 120,
   "id": "66487d3f",
   "metadata": {},
   "outputs": [
    {
     "name": "stdout",
     "output_type": "stream",
     "text": [
      "Input 5 elements in the array:\n",
      "Element:25\n",
      "Element:47\n",
      "Element:42\n",
      "Element:56\n",
      "Element:32\n",
      "Even elements are: [42, 56, 32]\n",
      "Odd elements are: [25, 47]\n"
     ]
    }
   ],
   "source": [
    "#Finding out odd even list from the input\n",
    "print(\"Input 5 elements in the array:\")\n",
    "odd = []\n",
    "even = []\n",
    "for i in range(0,5):\n",
    "    num = int(input(\"Element:\"))\n",
    "    if (num % 2) == 0:\n",
    "        even.append(num)\n",
    "    else:\n",
    "        odd.append(num)\n",
    "print(\"Even elements are:\", even)\n",
    "print(\"Odd elements are:\", odd)"
   ]
  },
  {
   "cell_type": "markdown",
   "id": "d0f4e7b5",
   "metadata": {},
   "source": [
    "### Question 5"
   ]
  },
  {
   "cell_type": "markdown",
   "id": "43ad38bc",
   "metadata": {},
   "source": [
    "1. Write a function inside(x,y,x1,y1,x2,y2) that returns True or False depending on whether the point (x,y) lies in the rectangle with lower left corner (x1,y1) and upper right corner (x2,y2)."
   ]
  },
  {
   "cell_type": "code",
   "execution_count": 125,
   "id": "14bf21b5",
   "metadata": {},
   "outputs": [
    {
     "name": "stdout",
     "output_type": "stream",
     "text": [
      "inside(1,1,0,0,2,3):  True\n",
      "inside(-1,-1,0,0,2,3): False\n"
     ]
    }
   ],
   "source": [
    "#Finding out if the certain point exists inside a rectangle\n",
    "def inside(x,y,x1,y1,x2,y2):\n",
    "    if((x1 < x < x2) and (y1 < y < y2)):\n",
    "        return True\n",
    "    else:\n",
    "        return False\n",
    "print(\"inside(1,1,0,0,2,3): \",inside(1,1,0,0,2,3))\n",
    "print(\"inside(-1,-1,0,0,2,3):\",inside(-1,-1,0,0,2,3))"
   ]
  },
  {
   "cell_type": "markdown",
   "id": "a90cc298",
   "metadata": {},
   "source": [
    "2. Use function inside() from part a. to write an expression that tests whether the point (1,1) lies in both of the following rectangles: one with lower left corner (0.3, 0.5) and upper right corner (1.1, 0.7) and the other with lower left corner (0.5, 0.2) and upper right corner (1.1, 2)."
   ]
  },
  {
   "cell_type": "code",
   "execution_count": 127,
   "id": "8081b7bf",
   "metadata": {},
   "outputs": [
    {
     "name": "stdout",
     "output_type": "stream",
     "text": [
      "Does point (1,1) lies in following rectangle: (0.3, 0.5, 1.1, 0.7) -  False\n",
      "Does point (1,1) lies in following rectangle: (0.5, 0.2, 1.1, 2) -  True\n"
     ]
    }
   ],
   "source": [
    "print(\"Does point (1,1) lies in following rectangle: (0.3, 0.5, 1.1, 0.7) - \", inside(1,1,0.3,0.5,1.1,0.7))\n",
    "print(\"Does point (1,1) lies in following rectangle: (0.5, 0.2, 1.1, 2) - \", inside(1,1,0.5,0.2,1.1,2))\n"
   ]
  },
  {
   "cell_type": "markdown",
   "id": "d5d83643",
   "metadata": {},
   "source": [
    "### Question 6"
   ]
  },
  {
   "cell_type": "code",
   "execution_count": 37,
   "id": "3fa35454",
   "metadata": {},
   "outputs": [
    {
     "name": "stdout",
     "output_type": "stream",
     "text": [
      "Enter the String:ElEpHant\n",
      "elephantway\n"
     ]
    }
   ],
   "source": [
    "def pig(str):\n",
    "    if str[0] in ('a','e','i','o','u','A','E','I','O','U'):\n",
    "        str1 = str + \"way\"\n",
    "    else:\n",
    "        str1 = str[1:] + str[0] + \"ay\"\n",
    "    print(str1.lower())\n",
    "str = input(\"Enter the String:\")\n",
    "pig(str)"
   ]
  },
  {
   "cell_type": "markdown",
   "id": "d012cabf",
   "metadata": {},
   "source": [
    "### Question 7"
   ]
  },
  {
   "cell_type": "code",
   "execution_count": 170,
   "id": "c9c731f7",
   "metadata": {},
   "outputs": [
    {
     "name": "stdout",
     "output_type": "stream",
     "text": [
      "There are  15  patients for blood type  A\n",
      "There are  1  patients for blood type  B\n",
      "There are  13  patients for blood type  AB\n",
      "There are  15  patients for blood type  O\n",
      "There are no patients for blood type  OO\n"
     ]
    }
   ],
   "source": [
    "def bldcount(fileName):\n",
    "    with open(fileName) as f:\n",
    "        contents = f.read()\n",
    "        bloodtype = ['A','B','AB','O','OO']\n",
    "        list = contents.split(' ')\n",
    "        list.remove('')\n",
    "        for i in bloodtype:\n",
    "            if i in list:\n",
    "                print(\"There are \", list.count(i), \" patients for blood type \", i)\n",
    "            else:\n",
    "                print(\"There are no patients for blood type \", i)\n",
    "#Finding out what blood type is available at a clinic\n",
    "bldcount('bloodtype1.txt')"
   ]
  },
  {
   "cell_type": "markdown",
   "id": "62af0892",
   "metadata": {},
   "source": [
    "### Question 8"
   ]
  },
  {
   "cell_type": "code",
   "execution_count": 144,
   "id": "d1c2e74a",
   "metadata": {},
   "outputs": [
    {
     "name": "stdout",
     "output_type": "stream",
     "text": [
      "Enter 3 digit currency code:CHF\n",
      "Enter the amount to convert in US dollar:50\n",
      "CHF to US Dollar Conversion: 51.18707\n"
     ]
    }
   ],
   "source": [
    "currency_code = [\"\"]\n",
    "def curconv(cur, amt):\n",
    "    data_cont = []\n",
    "    with open('currencies.txt') as f:\n",
    "        data = f.read()\n",
    "        \n",
    "        #cleaning the file and storing the data in a list\n",
    "        data_info = data.split(\"\\n\")\n",
    "        for item in range(len(data_info)):\n",
    "            data_cont.append(data_info[item].split(\"\\t\"))\n",
    "    for item in range(len(data_cont)):\n",
    "        #Storing currency code and currency convertor\n",
    "        currency_code.append(data_cont[item][0])\n",
    "        for i in range(len(data_cont[item])):\n",
    "            if(str in data_cont[item][i]):\n",
    "                return (float(data_cont[item][i+1])*amt)\n",
    "            else:\n",
    "                continue\n",
    "\n",
    "str = input(\"Enter 3 digit currency code:\")\n",
    "amount = int(input(\"Enter the amount to convert in US dollar:\"))\n",
    "conversion = curconv(str,amount)\n",
    "currency_code.remove('')\n",
    "if(conversion):\n",
    "    print(str, \"to US Dollar Conversion:\", conversion)\n",
    "else:\n",
    "    print(\"Incorrect Currency Code\")\n",
    "    print(\"Available currency codes are:\", currency_code)"
   ]
  },
  {
   "cell_type": "markdown",
   "id": "227d878c",
   "metadata": {},
   "source": [
    "### Question 9"
   ]
  },
  {
   "cell_type": "code",
   "execution_count": 159,
   "id": "8455d38f",
   "metadata": {},
   "outputs": [
    {
     "name": "stdout",
     "output_type": "stream",
     "text": [
      "1. TypeError: unsupported operand type(s) for +: 'int' and 'str'\n",
      "2. IndexError: list index out of range\n",
      "3. ValueError: math domain error\n",
      "4. NameError: name 'data_cont' is not defined\n",
      "5. FileNotFoundError: [Errno 2] No such file or directory: 'abc.txt'\n"
     ]
    }
   ],
   "source": [
    "#1. personal statement that outlines your financial need resulting from the political unrest in your home country.\n",
    "#print(6 + 'a')\n",
    "print(\"1. TypeError: unsupported operand type(s) for +: 'int' and 'str'\")\n",
    "\n",
    "#2. Referring to the 12th item of a list that has only 10 items\n",
    "#list = ['1','2','3','4','5','6','7','8','9','0']\n",
    "#print(list[11])\n",
    "print(\"2. IndexError: list index out of range\")\n",
    "\n",
    "#3. Using a value that is out of range for a function’s input, such as calling math.sqrt(-1.0)\n",
    "#import math\n",
    "#print(math.sqrt(-1.0))\n",
    "print(\"3. ValueError: math domain error\")\n",
    "\n",
    "#4. Using an undeclared variable, such as print(x) when x has not been defined \n",
    "#print(data_content)\n",
    "print(\"4. NameError: name 'data_cont' is not defined\")\n",
    "\n",
    "#5. Trying to open a file that does not exist, such as mistyping the file name or looking in the wrong directory. \n",
    "#with open(\"abc.txt\") as f:\n",
    "#    fileCont = f.read()\n",
    "print(\"5. FileNotFoundError: [Errno 2] No such file or directory: 'abc.txt'\")"
   ]
  },
  {
   "cell_type": "markdown",
   "id": "6b2e0358",
   "metadata": {},
   "source": [
    "### Question 10"
   ]
  },
  {
   "cell_type": "code",
   "execution_count": 162,
   "id": "f89d8f72",
   "metadata": {},
   "outputs": [
    {
     "name": "stdout",
     "output_type": "stream",
     "text": [
      "[1, 1, 1, 3, 5, 1, 1, 2, 1, 0, 1, 0, 1, 2, 4, 0, 1, 2, 0, 2, 1, 0, 1, 1, 0, 0]\n"
     ]
    }
   ],
   "source": [
    "def frequencies(str):\n",
    "    letters = 'abcdefghijklmnopqrstuvwxyz'\n",
    "    list = []\n",
    "    for i in letters:\n",
    "        list.append(str.count(i))\n",
    "    return list\n",
    "str = \"'The quick red fox got bored and went home.\"\n",
    "print(frequencies(str))"
   ]
  }
 ],
 "metadata": {
  "kernelspec": {
   "display_name": "Python 3 (ipykernel)",
   "language": "python",
   "name": "python3"
  },
  "language_info": {
   "codemirror_mode": {
    "name": "ipython",
    "version": 3
   },
   "file_extension": ".py",
   "mimetype": "text/x-python",
   "name": "python",
   "nbconvert_exporter": "python",
   "pygments_lexer": "ipython3",
   "version": "3.9.13"
  }
 },
 "nbformat": 4,
 "nbformat_minor": 5
}
